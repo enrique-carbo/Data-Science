{
  "nbformat": 4,
  "nbformat_minor": 0,
  "metadata": {
    "colab": {
      "name": "Seccion12_K-Vecinnos.ipynb",
      "provenance": [],
      "collapsed_sections": [],
      "authorship_tag": "ABX9TyPdOQLH4r3AYo9BTs25sK/y",
      "include_colab_link": true
    },
    "kernelspec": {
      "name": "python3",
      "display_name": "Python 3"
    },
    "language_info": {
      "name": "python"
    }
  },
  "cells": [
    {
      "cell_type": "markdown",
      "metadata": {
        "id": "view-in-github",
        "colab_type": "text"
      },
      "source": [
        "<a href=\"https://colab.research.google.com/github/enrique-carbo/Data-Science/blob/main/Seccion12_K_Vecinnos.ipynb\" target=\"_parent\"><img src=\"https://colab.research.google.com/assets/colab-badge.svg\" alt=\"Open In Colab\"/></a>"
      ]
    },
    {
      "cell_type": "markdown",
      "metadata": {
        "id": "5Qq2J037Jh8J"
      },
      "source": [
        "## **K Vecinos mas cercanos**"
      ]
    },
    {
      "cell_type": "code",
      "metadata": {
        "id": "uatO1Cf4Hboy"
      },
      "source": [
        "import pandas as pd\n",
        "import numpy as np\n",
        "import matplotlib.pyplot as plt\n",
        "import seaborn as sns"
      ],
      "execution_count": null,
      "outputs": []
    },
    {
      "cell_type": "code",
      "metadata": {
        "id": "LUsetNffJ4tj"
      },
      "source": [
        "dataframe = pd.read_csv('https://raw.githubusercontent.com/enrique-carbo/data/main/vehiculos.csv')"
      ],
      "execution_count": null,
      "outputs": []
    },
    {
      "cell_type": "code",
      "metadata": {
        "colab": {
          "base_uri": "https://localhost:8080/",
          "height": 379
        },
        "id": "QD6Y4EiJKd8S",
        "outputId": "d3ca7414-04d1-4952-9ad7-acf2d8f8df25"
      },
      "source": [
        "dataframe.head(10)"
      ],
      "execution_count": null,
      "outputs": [
        {
          "output_type": "execute_result",
          "data": {
            "text/html": [
              "<div>\n",
              "<style scoped>\n",
              "    .dataframe tbody tr th:only-of-type {\n",
              "        vertical-align: middle;\n",
              "    }\n",
              "\n",
              "    .dataframe tbody tr th {\n",
              "        vertical-align: top;\n",
              "    }\n",
              "\n",
              "    .dataframe thead th {\n",
              "        text-align: right;\n",
              "    }\n",
              "</style>\n",
              "<table border=\"1\" class=\"dataframe\">\n",
              "  <thead>\n",
              "    <tr style=\"text-align: right;\">\n",
              "      <th></th>\n",
              "      <th>compactness</th>\n",
              "      <th>circularity</th>\n",
              "      <th>distance_circularity</th>\n",
              "      <th>radius_ratio</th>\n",
              "      <th>pr_axis_aspect_ratio</th>\n",
              "      <th>max_length_aspect_ratio</th>\n",
              "      <th>scatter_ratio</th>\n",
              "      <th>elongatedness</th>\n",
              "      <th>pr_axis_rectangularity</th>\n",
              "      <th>max_length_rectangularity</th>\n",
              "      <th>scaled_variance_major_axis</th>\n",
              "      <th>scaled_variance_minor_axis</th>\n",
              "      <th>scaled_radius_gyration</th>\n",
              "      <th>skewness_major_axis</th>\n",
              "      <th>skewness_minor_axis</th>\n",
              "      <th>kurtosis_minor_axis</th>\n",
              "      <th>kurtosis_major_axis</th>\n",
              "      <th>hollows_ratio</th>\n",
              "      <th>vehicle_class</th>\n",
              "    </tr>\n",
              "  </thead>\n",
              "  <tbody>\n",
              "    <tr>\n",
              "      <th>0</th>\n",
              "      <td>95.0</td>\n",
              "      <td>48.0</td>\n",
              "      <td>83.0</td>\n",
              "      <td>178.0</td>\n",
              "      <td>72.0</td>\n",
              "      <td>10.0</td>\n",
              "      <td>162.0</td>\n",
              "      <td>42.0</td>\n",
              "      <td>20.0</td>\n",
              "      <td>159.0</td>\n",
              "      <td>176.0</td>\n",
              "      <td>379.0</td>\n",
              "      <td>184.0</td>\n",
              "      <td>70.0</td>\n",
              "      <td>6.0</td>\n",
              "      <td>16.0</td>\n",
              "      <td>187.0</td>\n",
              "      <td>197.0</td>\n",
              "      <td>van</td>\n",
              "    </tr>\n",
              "    <tr>\n",
              "      <th>1</th>\n",
              "      <td>91.0</td>\n",
              "      <td>41.0</td>\n",
              "      <td>84.0</td>\n",
              "      <td>141.0</td>\n",
              "      <td>57.0</td>\n",
              "      <td>9.0</td>\n",
              "      <td>149.0</td>\n",
              "      <td>45.0</td>\n",
              "      <td>19.0</td>\n",
              "      <td>143.0</td>\n",
              "      <td>170.0</td>\n",
              "      <td>330.0</td>\n",
              "      <td>158.0</td>\n",
              "      <td>72.0</td>\n",
              "      <td>9.0</td>\n",
              "      <td>14.0</td>\n",
              "      <td>189.0</td>\n",
              "      <td>199.0</td>\n",
              "      <td>van</td>\n",
              "    </tr>\n",
              "    <tr>\n",
              "      <th>2</th>\n",
              "      <td>104.0</td>\n",
              "      <td>50.0</td>\n",
              "      <td>106.0</td>\n",
              "      <td>209.0</td>\n",
              "      <td>66.0</td>\n",
              "      <td>10.0</td>\n",
              "      <td>207.0</td>\n",
              "      <td>32.0</td>\n",
              "      <td>23.0</td>\n",
              "      <td>158.0</td>\n",
              "      <td>223.0</td>\n",
              "      <td>635.0</td>\n",
              "      <td>220.0</td>\n",
              "      <td>73.0</td>\n",
              "      <td>14.0</td>\n",
              "      <td>9.0</td>\n",
              "      <td>188.0</td>\n",
              "      <td>196.0</td>\n",
              "      <td>saab</td>\n",
              "    </tr>\n",
              "    <tr>\n",
              "      <th>3</th>\n",
              "      <td>93.0</td>\n",
              "      <td>41.0</td>\n",
              "      <td>82.0</td>\n",
              "      <td>159.0</td>\n",
              "      <td>63.0</td>\n",
              "      <td>9.0</td>\n",
              "      <td>144.0</td>\n",
              "      <td>46.0</td>\n",
              "      <td>19.0</td>\n",
              "      <td>143.0</td>\n",
              "      <td>160.0</td>\n",
              "      <td>309.0</td>\n",
              "      <td>127.0</td>\n",
              "      <td>63.0</td>\n",
              "      <td>6.0</td>\n",
              "      <td>10.0</td>\n",
              "      <td>199.0</td>\n",
              "      <td>207.0</td>\n",
              "      <td>van</td>\n",
              "    </tr>\n",
              "    <tr>\n",
              "      <th>4</th>\n",
              "      <td>85.0</td>\n",
              "      <td>44.0</td>\n",
              "      <td>70.0</td>\n",
              "      <td>205.0</td>\n",
              "      <td>103.0</td>\n",
              "      <td>52.0</td>\n",
              "      <td>149.0</td>\n",
              "      <td>45.0</td>\n",
              "      <td>19.0</td>\n",
              "      <td>144.0</td>\n",
              "      <td>241.0</td>\n",
              "      <td>325.0</td>\n",
              "      <td>188.0</td>\n",
              "      <td>127.0</td>\n",
              "      <td>9.0</td>\n",
              "      <td>11.0</td>\n",
              "      <td>180.0</td>\n",
              "      <td>183.0</td>\n",
              "      <td>bus</td>\n",
              "    </tr>\n",
              "    <tr>\n",
              "      <th>5</th>\n",
              "      <td>107.0</td>\n",
              "      <td>57.0</td>\n",
              "      <td>106.0</td>\n",
              "      <td>172.0</td>\n",
              "      <td>50.0</td>\n",
              "      <td>6.0</td>\n",
              "      <td>255.0</td>\n",
              "      <td>26.0</td>\n",
              "      <td>28.0</td>\n",
              "      <td>169.0</td>\n",
              "      <td>280.0</td>\n",
              "      <td>957.0</td>\n",
              "      <td>264.0</td>\n",
              "      <td>85.0</td>\n",
              "      <td>5.0</td>\n",
              "      <td>9.0</td>\n",
              "      <td>181.0</td>\n",
              "      <td>183.0</td>\n",
              "      <td>bus</td>\n",
              "    </tr>\n",
              "    <tr>\n",
              "      <th>6</th>\n",
              "      <td>97.0</td>\n",
              "      <td>43.0</td>\n",
              "      <td>73.0</td>\n",
              "      <td>173.0</td>\n",
              "      <td>65.0</td>\n",
              "      <td>6.0</td>\n",
              "      <td>153.0</td>\n",
              "      <td>42.0</td>\n",
              "      <td>19.0</td>\n",
              "      <td>143.0</td>\n",
              "      <td>176.0</td>\n",
              "      <td>361.0</td>\n",
              "      <td>172.0</td>\n",
              "      <td>66.0</td>\n",
              "      <td>13.0</td>\n",
              "      <td>1.0</td>\n",
              "      <td>200.0</td>\n",
              "      <td>204.0</td>\n",
              "      <td>bus</td>\n",
              "    </tr>\n",
              "    <tr>\n",
              "      <th>7</th>\n",
              "      <td>90.0</td>\n",
              "      <td>43.0</td>\n",
              "      <td>66.0</td>\n",
              "      <td>157.0</td>\n",
              "      <td>65.0</td>\n",
              "      <td>9.0</td>\n",
              "      <td>137.0</td>\n",
              "      <td>48.0</td>\n",
              "      <td>18.0</td>\n",
              "      <td>146.0</td>\n",
              "      <td>162.0</td>\n",
              "      <td>281.0</td>\n",
              "      <td>164.0</td>\n",
              "      <td>67.0</td>\n",
              "      <td>3.0</td>\n",
              "      <td>3.0</td>\n",
              "      <td>193.0</td>\n",
              "      <td>202.0</td>\n",
              "      <td>van</td>\n",
              "    </tr>\n",
              "    <tr>\n",
              "      <th>8</th>\n",
              "      <td>86.0</td>\n",
              "      <td>34.0</td>\n",
              "      <td>62.0</td>\n",
              "      <td>140.0</td>\n",
              "      <td>61.0</td>\n",
              "      <td>7.0</td>\n",
              "      <td>122.0</td>\n",
              "      <td>54.0</td>\n",
              "      <td>17.0</td>\n",
              "      <td>127.0</td>\n",
              "      <td>141.0</td>\n",
              "      <td>223.0</td>\n",
              "      <td>112.0</td>\n",
              "      <td>64.0</td>\n",
              "      <td>2.0</td>\n",
              "      <td>14.0</td>\n",
              "      <td>200.0</td>\n",
              "      <td>208.0</td>\n",
              "      <td>van</td>\n",
              "    </tr>\n",
              "    <tr>\n",
              "      <th>9</th>\n",
              "      <td>93.0</td>\n",
              "      <td>44.0</td>\n",
              "      <td>98.0</td>\n",
              "      <td>197.0</td>\n",
              "      <td>62.0</td>\n",
              "      <td>11.0</td>\n",
              "      <td>183.0</td>\n",
              "      <td>36.0</td>\n",
              "      <td>22.0</td>\n",
              "      <td>146.0</td>\n",
              "      <td>202.0</td>\n",
              "      <td>505.0</td>\n",
              "      <td>152.0</td>\n",
              "      <td>64.0</td>\n",
              "      <td>4.0</td>\n",
              "      <td>14.0</td>\n",
              "      <td>195.0</td>\n",
              "      <td>204.0</td>\n",
              "      <td>saab</td>\n",
              "    </tr>\n",
              "  </tbody>\n",
              "</table>\n",
              "</div>"
            ],
            "text/plain": [
              "   compactness  circularity  ...  hollows_ratio  vehicle_class\n",
              "0         95.0         48.0  ...          197.0            van\n",
              "1         91.0         41.0  ...          199.0            van\n",
              "2        104.0         50.0  ...          196.0           saab\n",
              "3         93.0         41.0  ...          207.0            van\n",
              "4         85.0         44.0  ...          183.0            bus\n",
              "5        107.0         57.0  ...          183.0            bus\n",
              "6         97.0         43.0  ...          204.0            bus\n",
              "7         90.0         43.0  ...          202.0            van\n",
              "8         86.0         34.0  ...          208.0            van\n",
              "9         93.0         44.0  ...          204.0           saab\n",
              "\n",
              "[10 rows x 19 columns]"
            ]
          },
          "metadata": {},
          "execution_count": 4
        }
      ]
    },
    {
      "cell_type": "code",
      "metadata": {
        "colab": {
          "base_uri": "https://localhost:8080/"
        },
        "id": "18OiXC3FKiB4",
        "outputId": "2814a79c-866c-4574-e1a6-2fa2bac374a9"
      },
      "source": [
        "dataframe.info()"
      ],
      "execution_count": null,
      "outputs": [
        {
          "output_type": "stream",
          "name": "stdout",
          "text": [
            "<class 'pandas.core.frame.DataFrame'>\n",
            "RangeIndex: 846 entries, 0 to 845\n",
            "Data columns (total 19 columns):\n",
            " #   Column                      Non-Null Count  Dtype  \n",
            "---  ------                      --------------  -----  \n",
            " 0   compactness                 846 non-null    float64\n",
            " 1   circularity                 846 non-null    float64\n",
            " 2   distance_circularity        846 non-null    float64\n",
            " 3   radius_ratio                846 non-null    float64\n",
            " 4   pr_axis_aspect_ratio        846 non-null    float64\n",
            " 5   max_length_aspect_ratio     846 non-null    float64\n",
            " 6   scatter_ratio               846 non-null    float64\n",
            " 7   elongatedness               846 non-null    float64\n",
            " 8   pr_axis_rectangularity      846 non-null    float64\n",
            " 9   max_length_rectangularity   846 non-null    float64\n",
            " 10  scaled_variance_major_axis  846 non-null    float64\n",
            " 11  scaled_variance_minor_axis  846 non-null    float64\n",
            " 12  scaled_radius_gyration      846 non-null    float64\n",
            " 13  skewness_major_axis         846 non-null    float64\n",
            " 14  skewness_minor_axis         846 non-null    float64\n",
            " 15  kurtosis_minor_axis         846 non-null    float64\n",
            " 16  kurtosis_major_axis         846 non-null    float64\n",
            " 17  hollows_ratio               846 non-null    float64\n",
            " 18  vehicle_class               846 non-null    object \n",
            "dtypes: float64(18), object(1)\n",
            "memory usage: 125.7+ KB\n"
          ]
        }
      ]
    },
    {
      "cell_type": "code",
      "metadata": {
        "colab": {
          "base_uri": "https://localhost:8080/"
        },
        "id": "kNMOqJbhK0gN",
        "outputId": "b0c787be-a528-437b-faa0-b805e8d1d485"
      },
      "source": [
        "dataframe.shape"
      ],
      "execution_count": null,
      "outputs": [
        {
          "output_type": "execute_result",
          "data": {
            "text/plain": [
              "(846, 19)"
            ]
          },
          "metadata": {},
          "execution_count": 9
        }
      ]
    },
    {
      "cell_type": "code",
      "metadata": {
        "colab": {
          "base_uri": "https://localhost:8080/"
        },
        "id": "YO5BauMGLNSB",
        "outputId": "725db178-f3d6-483a-8d19-a344b99b2211"
      },
      "source": [
        "dataframe['vehicle_class'].unique()"
      ],
      "execution_count": null,
      "outputs": [
        {
          "output_type": "execute_result",
          "data": {
            "text/plain": [
              "array(['van', 'saab', 'bus', 'opel'], dtype=object)"
            ]
          },
          "metadata": {},
          "execution_count": 10
        }
      ]
    },
    {
      "cell_type": "markdown",
      "metadata": {
        "id": "g_PgFnlSMHuE"
      },
      "source": [
        "### Variables \n",
        "y = variable objetivo a predecir (tipo de vehiculo)  \n",
        "X = resto del dataframe"
      ]
    },
    {
      "cell_type": "code",
      "metadata": {
        "id": "OyzcHNSJL6vH"
      },
      "source": [
        "y = dataframe['vehicle_class']\n",
        "X = dataframe.drop('vehicle_class', axis=1)"
      ],
      "execution_count": null,
      "outputs": []
    },
    {
      "cell_type": "code",
      "metadata": {
        "colab": {
          "base_uri": "https://localhost:8080/"
        },
        "id": "OFIUDKtnM953",
        "outputId": "a67c009a-253e-4d98-d3ef-b9998c98cfbe"
      },
      "source": [
        "X.shape, y.shape"
      ],
      "execution_count": null,
      "outputs": [
        {
          "output_type": "execute_result",
          "data": {
            "text/plain": [
              "((846, 18), (846,))"
            ]
          },
          "metadata": {},
          "execution_count": 12
        }
      ]
    },
    {
      "cell_type": "markdown",
      "metadata": {
        "id": "hg7ZDlTuNJ3p"
      },
      "source": [
        "#### Dividimos el dataframe en un conjunto de entrenamiento y otro de pruebas."
      ]
    },
    {
      "cell_type": "code",
      "metadata": {
        "id": "F3QQQa2SNDa_"
      },
      "source": [
        "from sklearn.model_selection import train_test_split"
      ],
      "execution_count": null,
      "outputs": []
    },
    {
      "cell_type": "code",
      "metadata": {
        "id": "1VCCbHGjNfEB"
      },
      "source": [
        "X_train, X_test, y_train, y_test = train_test_split(X, y, test_size=0.3, random_state=45)"
      ],
      "execution_count": null,
      "outputs": []
    },
    {
      "cell_type": "markdown",
      "metadata": {
        "id": "bOqUcYF8Oada"
      },
      "source": [
        "### Entrenamiento y Predicciones del Modelo"
      ]
    },
    {
      "cell_type": "code",
      "metadata": {
        "id": "pEseqNInODq-"
      },
      "source": [
        "from sklearn.neighbors import KNeighborsClassifier\n"
      ],
      "execution_count": null,
      "outputs": []
    },
    {
      "cell_type": "code",
      "metadata": {
        "id": "zYwjlUA9OJYM"
      },
      "source": [
        "knn = KNeighborsClassifier(n_neighbors=1)"
      ],
      "execution_count": null,
      "outputs": []
    },
    {
      "cell_type": "code",
      "metadata": {
        "colab": {
          "base_uri": "https://localhost:8080/"
        },
        "id": "NC1m4IZHO3sF",
        "outputId": "5c39a42a-3b30-4441-9959-4c6c12493518"
      },
      "source": [
        "knn.fit(X_train, y_train)"
      ],
      "execution_count": null,
      "outputs": [
        {
          "output_type": "execute_result",
          "data": {
            "text/plain": [
              "KNeighborsClassifier(algorithm='auto', leaf_size=30, metric='minkowski',\n",
              "                     metric_params=None, n_jobs=None, n_neighbors=1, p=2,\n",
              "                     weights='uniform')"
            ]
          },
          "metadata": {},
          "execution_count": 21
        }
      ]
    },
    {
      "cell_type": "code",
      "metadata": {
        "id": "JyAX1_JzPG91"
      },
      "source": [
        "predicciones = knn.predict(X_test)\n"
      ],
      "execution_count": null,
      "outputs": []
    },
    {
      "cell_type": "code",
      "metadata": {
        "colab": {
          "base_uri": "https://localhost:8080/"
        },
        "id": "POP7TDVrPVUL",
        "outputId": "8d2a4e8b-19aa-47c3-d8be-b72a145153c8"
      },
      "source": [
        "predicciones"
      ],
      "execution_count": null,
      "outputs": [
        {
          "output_type": "execute_result",
          "data": {
            "text/plain": [
              "array(['saab', 'opel', 'saab', 'opel', 'saab', 'van', 'saab', 'opel',\n",
              "       'saab', 'van', 'opel', 'bus', 'van', 'opel', 'opel', 'van', 'opel',\n",
              "       'saab', 'bus', 'saab', 'bus', 'bus', 'bus', 'bus', 'bus', 'bus',\n",
              "       'opel', 'saab', 'van', 'bus', 'opel', 'opel', 'bus', 'saab',\n",
              "       'opel', 'bus', 'van', 'bus', 'bus', 'van', 'van', 'opel', 'opel',\n",
              "       'bus', 'saab', 'van', 'bus', 'bus', 'opel', 'bus', 'bus', 'saab',\n",
              "       'opel', 'van', 'bus', 'saab', 'saab', 'bus', 'saab', 'opel', 'van',\n",
              "       'van', 'bus', 'bus', 'saab', 'van', 'bus', 'bus', 'van', 'saab',\n",
              "       'van', 'bus', 'opel', 'van', 'opel', 'van', 'saab', 'saab', 'bus',\n",
              "       'bus', 'van', 'saab', 'saab', 'van', 'bus', 'bus', 'saab', 'saab',\n",
              "       'saab', 'van', 'van', 'van', 'van', 'saab', 'saab', 'saab', 'saab',\n",
              "       'opel', 'opel', 'saab', 'bus', 'bus', 'bus', 'saab', 'van', 'bus',\n",
              "       'saab', 'saab', 'saab', 'bus', 'van', 'bus', 'opel', 'bus', 'saab',\n",
              "       'saab', 'opel', 'van', 'opel', 'opel', 'bus', 'opel', 'bus', 'van',\n",
              "       'saab', 'opel', 'saab', 'opel', 'opel', 'bus', 'bus', 'bus', 'van',\n",
              "       'opel', 'van', 'bus', 'bus', 'opel', 'opel', 'saab', 'van', 'opel',\n",
              "       'van', 'van', 'saab', 'bus', 'saab', 'saab', 'bus', 'van', 'van',\n",
              "       'bus', 'saab', 'saab', 'van', 'van', 'van', 'bus', 'opel', 'bus',\n",
              "       'saab', 'saab', 'opel', 'saab', 'van', 'saab', 'van', 'van', 'bus',\n",
              "       'van', 'saab', 'opel', 'van', 'van', 'van', 'saab', 'van', 'van',\n",
              "       'bus', 'bus', 'opel', 'van', 'van', 'opel', 'saab', 'opel', 'opel',\n",
              "       'opel', 'van', 'van', 'opel', 'bus', 'opel', 'saab', 'bus', 'bus',\n",
              "       'opel', 'bus', 'bus', 'bus', 'van', 'van', 'bus', 'bus', 'bus',\n",
              "       'opel', 'opel', 'van', 'van', 'bus', 'bus', 'bus', 'van', 'van',\n",
              "       'van', 'opel', 'van', 'bus', 'saab', 'van', 'van', 'bus', 'bus',\n",
              "       'saab', 'van', 'bus', 'van', 'bus', 'bus', 'saab', 'saab', 'bus',\n",
              "       'saab', 'bus', 'bus', 'saab', 'saab', 'bus', 'bus', 'van', 'bus',\n",
              "       'bus', 'saab', 'saab', 'saab', 'opel', 'bus', 'van', 'opel',\n",
              "       'opel', 'van', 'opel', 'bus', 'bus'], dtype=object)"
            ]
          },
          "metadata": {},
          "execution_count": 23
        }
      ]
    },
    {
      "cell_type": "markdown",
      "metadata": {
        "id": "X-taWupRPj3a"
      },
      "source": [
        "### Métodos de evaluación \n",
        "**Matriz de confusión**  \n",
        "**Precisión del modelo**\n"
      ]
    },
    {
      "cell_type": "code",
      "metadata": {
        "colab": {
          "base_uri": "https://localhost:8080/"
        },
        "id": "vB1UOLkDPWz-",
        "outputId": "0d90a15e-3ce9-4b94-d431-358885c66173"
      },
      "source": [
        "from sklearn.metrics import classification_report, confusion_matrix\n",
        "print(confusion_matrix(y_test, predicciones))\n"
      ],
      "execution_count": null,
      "outputs": [
        {
          "output_type": "stream",
          "name": "stdout",
          "text": [
            "[[65  0  7  5]\n",
            " [ 7 24 28  6]\n",
            " [ 5 26 23  3]\n",
            " [ 2  0  2 51]]\n"
          ]
        }
      ]
    },
    {
      "cell_type": "code",
      "metadata": {
        "colab": {
          "base_uri": "https://localhost:8080/"
        },
        "id": "L5a6W94MQQRE",
        "outputId": "2cd9fac4-abe4-4e5c-b1fb-1c0fc1efa433"
      },
      "source": [
        "print(classification_report(y_test, predicciones))"
      ],
      "execution_count": null,
      "outputs": [
        {
          "output_type": "stream",
          "name": "stdout",
          "text": [
            "              precision    recall  f1-score   support\n",
            "\n",
            "         bus       0.82      0.84      0.83        77\n",
            "        opel       0.48      0.37      0.42        65\n",
            "        saab       0.38      0.40      0.39        57\n",
            "         van       0.78      0.93      0.85        55\n",
            "\n",
            "    accuracy                           0.64       254\n",
            "   macro avg       0.62      0.64      0.62       254\n",
            "weighted avg       0.63      0.64      0.63       254\n",
            "\n"
          ]
        }
      ]
    },
    {
      "cell_type": "code",
      "metadata": {
        "id": "GYws-6HOQX1V"
      },
      "source": [
        "tasa_error = []\n",
        "for i in range(1, 30):\n",
        "  knn = KNeighborsClassifier(n_neighbors=i)\n",
        "  knn.fit(X_train, y_train)\n",
        "  prediccion_i = knn.predict(X_test)\n",
        "  tasa_error.append(np.mean(prediccion_i != y_test))"
      ],
      "execution_count": null,
      "outputs": []
    },
    {
      "cell_type": "code",
      "metadata": {
        "colab": {
          "base_uri": "https://localhost:8080/"
        },
        "id": "gI9yYmcrRxcs",
        "outputId": "c175584b-d334-4673-8c85-52f8336c2185"
      },
      "source": [
        "tasa_error"
      ],
      "execution_count": null,
      "outputs": [
        {
          "output_type": "execute_result",
          "data": {
            "text/plain": [
              "[0.35826771653543305,\n",
              " 0.3464566929133858,\n",
              " 0.3188976377952756,\n",
              " 0.3228346456692913,\n",
              " 0.33858267716535434,\n",
              " 0.3346456692913386,\n",
              " 0.3228346456692913,\n",
              " 0.33858267716535434,\n",
              " 0.36220472440944884,\n",
              " 0.3661417322834646,\n",
              " 0.35039370078740156,\n",
              " 0.3661417322834646,\n",
              " 0.36220472440944884,\n",
              " 0.38188976377952755,\n",
              " 0.35039370078740156,\n",
              " 0.3661417322834646,\n",
              " 0.3661417322834646,\n",
              " 0.3700787401574803,\n",
              " 0.3661417322834646,\n",
              " 0.3779527559055118,\n",
              " 0.3661417322834646,\n",
              " 0.37401574803149606,\n",
              " 0.37401574803149606,\n",
              " 0.37401574803149606,\n",
              " 0.3779527559055118,\n",
              " 0.38976377952755903,\n",
              " 0.38188976377952755,\n",
              " 0.3700787401574803,\n",
              " 0.37401574803149606]"
            ]
          },
          "metadata": {},
          "execution_count": 43
        }
      ]
    },
    {
      "cell_type": "code",
      "metadata": {
        "colab": {
          "base_uri": "https://localhost:8080/",
          "height": 282
        },
        "id": "vfHtHeDFRzI_",
        "outputId": "95e70785-16ff-43fb-e530-07c84c098e5c"
      },
      "source": [
        "valores = range(1, 30)\n",
        "plt.plot(valores, tasa_error, color='green', marker='o', markerfacecolor='red', markersize=8)"
      ],
      "execution_count": null,
      "outputs": [
        {
          "output_type": "execute_result",
          "data": {
            "text/plain": [
              "[<matplotlib.lines.Line2D at 0x7f0a94599150>]"
            ]
          },
          "metadata": {},
          "execution_count": 44
        },
        {
          "output_type": "display_data",
          "data": {
            "image/png": "[encoded data removed]",
            "text/plain": [
              "<Figure size 432x288 with 1 Axes>"
            ]
          },
          "metadata": {
            "needs_background": "light"
          }
        }
      ]
    },
    {
      "cell_type": "code",
      "metadata": {
        "id": "fnOPnPlFR5Du"
      },
      "source": [
        "knn = KNeighborsClassifier(n_neighbors=3)\n",
        "knn.fit(X_train, y_train)\n",
        "predicciones = knn.predict(X_test)\n"
      ],
      "execution_count": null,
      "outputs": []
    },
    {
      "cell_type": "code",
      "metadata": {
        "colab": {
          "base_uri": "https://localhost:8080/"
        },
        "id": "5wdPaG3xTgqH",
        "outputId": "a90c03bf-2e49-43d5-d526-6563563d2256"
      },
      "source": [
        "print(classification_report(y_test, predicciones))"
      ],
      "execution_count": null,
      "outputs": [
        {
          "output_type": "stream",
          "name": "stdout",
          "text": [
            "              precision    recall  f1-score   support\n",
            "\n",
            "         bus       0.77      0.88      0.82        77\n",
            "        opel       0.58      0.45      0.50        65\n",
            "        saab       0.44      0.39      0.41        57\n",
            "         van       0.82      0.98      0.89        55\n",
            "\n",
            "    accuracy                           0.68       254\n",
            "   macro avg       0.65      0.67      0.66       254\n",
            "weighted avg       0.66      0.68      0.66       254\n",
            "\n"
          ]
        }
      ]
    },
    {
      "cell_type": "code",
      "metadata": {
        "id": "4dIrkCdTTire"
      },
      "source": [
        ""
      ],
      "execution_count": null,
      "outputs": []
    }
  ]
}