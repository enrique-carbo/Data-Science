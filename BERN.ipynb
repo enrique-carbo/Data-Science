{
  "nbformat": 4,
  "nbformat_minor": 0,
  "metadata": {
    "colab": {
      "name": "BERN.ipynb",
      "provenance": [],
      "collapsed_sections": [],
      "authorship_tag": "ABX9TyPs1mht8Ae66GYCzKUkiXXa",
      "include_colab_link": true
    },
    "kernelspec": {
      "name": "python3",
      "display_name": "Python 3"
    },
    "language_info": {
      "name": "python"
    }
  },
  "cells": [
    {
      "cell_type": "markdown",
      "metadata": {
        "id": "view-in-github",
        "colab_type": "text"
      },
      "source": [
        "<a href=\"https://colab.research.google.com/github/enrique-carbo/Data-Science/blob/main/BERN.ipynb\" target=\"_parent\"><img src=\"https://colab.research.google.com/assets/colab-badge.svg\" alt=\"Open In Colab\"/></a>"
      ]
    },
    {
      "cell_type": "markdown",
      "metadata": {
        "id": "yNY6JQg1Ogbh"
      },
      "source": [
        "## Biomedical Term Extraction\n",
        "## Extracción de Entidades Médicas\n",
        "\n",
        "Herramienta para reconocimiento de entidades biomédicas y de normalización de múltiples tipos (BERN) que utiliza modelos NER basados en redes neuronales (BioBERT (Lee et al., 2019)) para reconocer entidades y descubrir nuevas entidades.\n",
        "\n",
        "web: https://bern.korea.ac.kr/"
      ]
    },
    {
      "cell_type": "code",
      "metadata": {
        "id": "dTUIxjWbOf4f"
      },
      "source": [
        "import requests"
      ],
      "execution_count": 1,
      "outputs": []
    },
    {
      "cell_type": "code",
      "metadata": {
        "id": "-rYK0ms4QVru"
      },
      "source": [
        "def query_raw(text, url=\"https://bern.korea.ac.kr/plain\"):\n",
        "  return requests.post(url, data={'sample_text': text}).json()"
      ],
      "execution_count": 3,
      "outputs": []
    },
    {
      "cell_type": "code",
      "metadata": {
        "id": "ohBj-3BSUIdt"
      },
      "source": [
        "def term_extraction(text, out, type):\n",
        "\n",
        "  denotations= out['denotations']\n",
        "  relavent_terms= []\n",
        "\n",
        "  if type=='drug':\n",
        "    drug_terms= []\n",
        "    for i in denotations:\n",
        "      if i['obj']== 'drug':\n",
        "        drug_terms.append((i['span']['begin'],i['span']['end']))\n",
        "    \n",
        "    for i in drug_terms:\n",
        "      start=i[0]\n",
        "      end=i[1]\n",
        "      relavent_terms.append(text[start:end])\n",
        "\n",
        "  if type=='disease':\n",
        "    disease_terms= []\n",
        "    for i in denotations:\n",
        "      if i['obj']== 'disease':\n",
        "        disease_terms.append((i['span']['begin'],i['span']['end']))\n",
        "    \n",
        "    for i in disease_terms:\n",
        "      start=i[0]\n",
        "      end=i[1]\n",
        "      relavent_terms.append(text[start:end])\n",
        "  \n",
        "  if type=='species':\n",
        "    species_terms= []\n",
        "    for i in denotations:\n",
        "      if i['obj']== 'species':\n",
        "        species_terms.append((i['span']['begin'],i['span']['end']))\n",
        "    \n",
        "    for i in species_terms:\n",
        "      start=i[0]\n",
        "      end=i[1]\n",
        "      relavent_terms.append(text[start:end])\n",
        "  \n",
        "  return(relavent_terms)\n",
        "  "
      ],
      "execution_count": 9,
      "outputs": []
    },
    {
      "cell_type": "code",
      "metadata": {
        "id": "56_tIWrTQs-c"
      },
      "source": [
        "text = \"This systematic review and NMA showed that imatinib, intravenous immunoglobulin and tocilizumab could reduce the mortality. Patients receiving baricitinib plus remdesivir, colchicine, dexamethasone, recombinant human GCSF and tocilizumab had a lower risk of mechanical ventilation. Administration of tofacitinib, sarilumab, remdesivir, tocilizumab and baricitinib plus remdesivir led to higher hospital discharge rates. Convalescent plasma, ivermectin, ivermectin plus doxycycline, hydroxychloroquine, nitazoxanide and proxalutamide could improve the viral elimination.\""
      ],
      "execution_count": 10,
      "outputs": []
    },
    {
      "cell_type": "code",
      "metadata": {
        "colab": {
          "base_uri": "https://localhost:8080/"
        },
        "id": "ofSy85XhQhqS",
        "outputId": "e5ffe281-6355-4ef1-b9ef-fd10c5616cc4"
      },
      "source": [
        "out= query_raw(text)\n",
        "print(out)\n",
        "print(term_extraction(text, out, 'drug'))\n",
        "print(term_extraction(text, out, 'disease'))\n",
        "print(term_extraction(text, out, 'species'))"
      ],
      "execution_count": 11,
      "outputs": [
        {
          "output_type": "stream",
          "name": "stdout",
          "text": [
            "{'project': 'BERN', 'sourcedb': '', 'sourceid': '24863e810b21376f368962063562ae2a3fc1dfbd40a7fb85270e067f-Thread-667111', 'text': 'This systematic review and NMA showed that imatinib, intravenous immunoglobulin and tocilizumab could reduce the mortality. Patients receiving baricitinib plus remdesivir, colchicine, dexamethasone, recombinant human GCSF and tocilizumab had a lower risk of mechanical ventilation. Administration of tofacitinib, sarilumab, remdesivir, tocilizumab and baricitinib plus remdesivir led to higher hospital discharge rates. Convalescent plasma, ivermectin, ivermectin plus doxycycline, hydroxychloroquine, nitazoxanide and proxalutamide could improve the viral elimination.', 'denotations': [{'id': ['CHEBI:31690', 'BERN:4104503'], 'span': {'begin': 43, 'end': 51}, 'obj': 'drug'}, {'id': ['BERN:326414902'], 'span': {'begin': 65, 'end': 79}, 'obj': 'gene'}, {'id': ['BERN:6275603'], 'span': {'begin': 143, 'end': 154}, 'obj': 'drug'}, {'id': ['CUI-less'], 'span': {'begin': 160, 'end': 170}, 'obj': 'drug'}, {'id': ['CHEBI:23359', 'BERN:300876803'], 'span': {'begin': 172, 'end': 182}, 'obj': 'drug'}, {'id': ['MESH:D003907', 'BERN:4134303'], 'span': {'begin': 184, 'end': 197}, 'obj': 'drug'}, {'id': ['CHEBI:71197', 'BERN:4259003'], 'span': {'begin': 300, 'end': 311}, 'obj': 'drug'}, {'id': ['CUI-less'], 'span': {'begin': 324, 'end': 334}, 'obj': 'drug'}, {'id': ['BERN:6275603'], 'span': {'begin': 352, 'end': 363}, 'obj': 'drug'}, {'id': ['CUI-less'], 'span': {'begin': 369, 'end': 379}, 'obj': 'drug'}, {'id': ['MESH:D007559', 'BERN:4712403'], 'span': {'begin': 441, 'end': 451}, 'obj': 'drug'}, {'id': ['MESH:D007559', 'BERN:4712403'], 'span': {'begin': 453, 'end': 463}, 'obj': 'drug'}, {'id': ['MESH:D004318', 'BERN:121772003'], 'span': {'begin': 469, 'end': 480}, 'obj': 'drug'}, {'id': ['MESH:D006886', 'BERN:4707203'], 'span': {'begin': 482, 'end': 500}, 'obj': 'drug'}, {'id': ['MESH:C041747', 'BERN:4692103'], 'span': {'begin': 502, 'end': 514}, 'obj': 'drug'}, {'id': ['CUI-less'], 'span': {'begin': 519, 'end': 532}, 'obj': 'drug'}], 'timestamp': 'Sat Oct 23 18:22:50 +0000 2021', 'logits': {'disease': [], 'gene': [[{'start': 65, 'end': 79, 'id': 'BERN:326414902'}, 0.9999972581863403]], 'drug': [[{'start': 43, 'end': 51, 'id': 'CHEBI:31690\\tBERN:4104503'}, 0.9999967813491821], [{'start': 143, 'end': 154, 'id': 'BERN:6275603'}, 0.9999940395355225], [{'start': 160, 'end': 170, 'id': 'CUI-less'}, 0.9997819066047668], [{'start': 172, 'end': 182, 'id': 'CHEBI:23359\\tBERN:300876803'}, 0.9999957084655762], [{'start': 184, 'end': 197, 'id': 'MESH:D003907\\tBERN:4134303'}, 0.999996542930603], [{'start': 300, 'end': 311, 'id': 'CHEBI:71197\\tBERN:4259003'}, 0.9999954700469971], [{'start': 324, 'end': 334, 'id': 'CUI-less'}, 0.9998118281364441], [{'start': 352, 'end': 363, 'id': 'BERN:6275603'}, 0.9999910593032837], [{'start': 369, 'end': 379, 'id': 'CUI-less'}, 0.999895453453064], [{'start': 441, 'end': 451, 'id': 'MESH:D007559\\tBERN:4712403'}, 0.9999963045120239], [{'start': 453, 'end': 463, 'id': 'MESH:D007559\\tBERN:4712403'}, 0.9999966621398926], [{'start': 469, 'end': 480, 'id': 'MESH:D004318\\tBERN:121772003'}, 0.9999955892562866], [{'start': 482, 'end': 500, 'id': 'MESH:D006886\\tBERN:4707203'}, 0.9999971389770508], [{'start': 502, 'end': 514, 'id': 'MESH:C041747\\tBERN:4692103'}, 0.999996542930603], [{'start': 519, 'end': 532, 'id': 'CUI-less'}, 0.9999960660934448]], 'species': [[{'start': 124, 'end': 132}, 0.9999998807907104], [{'start': 211, 'end': 216}, 0.9999998807907104]]}}\n",
            "['imatinib', 'baricitinib', 'remdesivir', 'colchicine', 'dexamethasone', 'tofacitinib', 'remdesivir', 'baricitinib', 'remdesivir', 'ivermectin', 'ivermectin', 'doxycycline', 'hydroxychloroquine', 'nitazoxanide', 'proxalutamide']\n",
            "[]\n",
            "[]\n"
          ]
        }
      ]
    }
  ]
}