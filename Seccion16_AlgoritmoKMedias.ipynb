{
  "nbformat": 4,
  "nbformat_minor": 0,
  "metadata": {
    "colab": {
      "name": "Seccion16-AlgoritmoKMedias.ipynb",
      "provenance": [],
      "authorship_tag": "ABX9TyOro86KF5rtJFDRt49Dy88K",
      "include_colab_link": true
    },
    "kernelspec": {
      "name": "python3",
      "display_name": "Python 3"
    },
    "language_info": {
      "name": "python"
    }
  },
  "cells": [
    {
      "cell_type": "markdown",
      "metadata": {
        "id": "view-in-github",
        "colab_type": "text"
      },
      "source": [
        "<a href=\"https://colab.research.google.com/github/enrique-carbo/Data-Science/blob/main/Seccion16_AlgoritmoKMedias.ipynb\" target=\"_parent\"><img src=\"https://colab.research.google.com/assets/colab-badge.svg\" alt=\"Open In Colab\"/></a>"
      ]
    },
    {
      "cell_type": "markdown",
      "metadata": {
        "id": "jQXW-oOzpaSz"
      },
      "source": [
        "## Algoritmo de K-Medias  \n",
        "  \n",
        "Algoritmo de ***aprendizaje no supervisado*** para resolver el problema de la **clusterización**.  \n",
        "   \n",
        "Tiene como objetivo la partición de un conjunto de \"n\" observaciones en \"k\" grupos, en le que cada observación pertenece al grupo cuyo valor medio es más cercano.  \n",
        "  \n",
        "Es un método utilizado en la **mineria de datos**."
      ]
    },
    {
      "cell_type": "code",
      "metadata": {
        "id": "hN0JQHSxpZOo"
      },
      "source": [
        "import pandas as pd\n",
        "import numpy as np\n",
        "import seaborn as sns\n",
        "import matplotlib.pyplot as plt"
      ],
      "execution_count": 1,
      "outputs": []
    },
    {
      "cell_type": "code",
      "metadata": {
        "id": "_WHcIIM9qe58"
      },
      "source": [
        "from sklearn.datasets import make_blobs"
      ],
      "execution_count": 2,
      "outputs": []
    },
    {
      "cell_type": "code",
      "metadata": {
        "id": "AMBbNB4PqnBj"
      },
      "source": [
        "datos = make_blobs(n_samples=200, n_features=2, centers=4)"
      ],
      "execution_count": 8,
      "outputs": []
    },
    {
      "cell_type": "code",
      "metadata": {
        "colab": {
          "base_uri": "https://localhost:8080/"
        },
        "id": "I5SwxRiArDSW",
        "outputId": "a2a1197d-c20c-41fd-daa5-4190b4240f1d"
      },
      "source": [
        "datos"
      ],
      "execution_count": 9,
      "outputs": [
        {
          "output_type": "execute_result",
          "data": {
            "text/plain": [
              "(array([[-6.37930896e-01,  5.52118409e+00],\n",
              "        [-8.19514011e+00,  6.70853461e+00],\n",
              "        [ 9.54820756e-01,  4.14550352e+00],\n",
              "        [-8.16707520e+00,  5.72800945e+00],\n",
              "        [-8.29681551e+00,  3.49083942e+00],\n",
              "        [-7.06980375e+00,  5.98423999e+00],\n",
              "        [ 1.03722018e+00,  6.22337856e+00],\n",
              "        [-1.16092689e+00,  5.62977129e+00],\n",
              "        [-6.77738762e+00,  4.96577817e+00],\n",
              "        [-1.02286688e+01,  1.97667704e+00],\n",
              "        [-9.29556764e+00,  1.97013730e+00],\n",
              "        [-8.19538913e+00,  3.11340993e+00],\n",
              "        [-7.50319345e+00,  3.93827911e+00],\n",
              "        [ 1.49675287e+00,  6.93427170e+00],\n",
              "        [ 2.03386722e+00,  4.12583972e+00],\n",
              "        [-7.95015968e+00,  3.80307097e+00],\n",
              "        [ 8.68024699e-02,  6.00086715e+00],\n",
              "        [-9.88869315e+00,  4.25051289e+00],\n",
              "        [-7.12992373e+00,  9.63817899e-01],\n",
              "        [ 1.89503338e+00,  7.21684719e+00],\n",
              "        [ 8.77050077e-01,  5.18892847e+00],\n",
              "        [-8.30086974e+00,  2.42421913e+00],\n",
              "        [-1.16309542e+00,  6.86928855e+00],\n",
              "        [-8.95939330e+00,  1.73696991e+00],\n",
              "        [ 7.37573828e-01,  5.88937718e+00],\n",
              "        [-7.75981512e+00,  1.70920832e+00],\n",
              "        [-8.00698033e+00,  2.66783914e+00],\n",
              "        [-8.42938843e+00,  4.46489540e+00],\n",
              "        [-6.79305116e+00,  5.63085573e+00],\n",
              "        [ 2.77674113e+00,  7.59646850e+00],\n",
              "        [-6.85786013e-01,  7.31044402e+00],\n",
              "        [ 4.62634323e-01,  6.31015012e+00],\n",
              "        [-6.95886391e+00,  3.35299575e+00],\n",
              "        [ 2.85248478e+00,  7.03148084e+00],\n",
              "        [-9.27375460e+00,  2.71146619e+00],\n",
              "        [ 8.10402037e-01,  4.09152567e+00],\n",
              "        [ 2.53202167e+00,  5.48139001e+00],\n",
              "        [ 1.34281683e+00,  5.75901100e+00],\n",
              "        [ 1.14565578e+00,  6.12820665e+00],\n",
              "        [-9.16106764e+00,  1.49295690e+00],\n",
              "        [-7.70396649e+00,  8.50579275e-01],\n",
              "        [-7.27659091e-02,  6.49989479e+00],\n",
              "        [-8.86258270e-01,  7.33968170e+00],\n",
              "        [-8.18987315e+00,  1.09759365e+00],\n",
              "        [-7.47304382e-01,  5.49451158e+00],\n",
              "        [-8.18821626e+00,  5.40809059e+00],\n",
              "        [-4.38372041e-01,  4.96255596e+00],\n",
              "        [-8.12576124e+00,  1.55105950e+00],\n",
              "        [-8.59301790e+00,  2.74873823e-01],\n",
              "        [-7.92151963e+00,  3.31685973e+00],\n",
              "        [ 9.58594661e-01,  6.65930364e+00],\n",
              "        [-7.08138008e-01,  5.08710970e+00],\n",
              "        [-8.46604379e+00,  1.77875466e+00],\n",
              "        [-7.01937184e+00,  2.89814038e+00],\n",
              "        [-8.83884729e+00,  5.04496950e+00],\n",
              "        [ 3.77318007e+00,  4.69179872e+00],\n",
              "        [-9.01126328e+00,  1.07169763e+00],\n",
              "        [-8.09111049e+00,  1.04445185e+00],\n",
              "        [-7.03749535e+00,  1.83122378e+00],\n",
              "        [ 2.18751175e+00,  5.54114204e+00],\n",
              "        [-7.41886231e+00,  7.39867867e+00],\n",
              "        [ 8.25008585e-01,  7.28150106e+00],\n",
              "        [-9.09586362e+00,  4.74117965e+00],\n",
              "        [ 3.20320860e+00,  5.15730210e+00],\n",
              "        [-1.98593429e+00,  4.82425649e+00],\n",
              "        [-1.19906626e+01,  1.93039466e+00],\n",
              "        [-9.05014133e+00,  5.58796768e+00],\n",
              "        [-3.34498299e-01,  6.41457815e+00],\n",
              "        [-6.81174924e+00,  4.39086843e+00],\n",
              "        [ 1.40561610e+00,  6.56917724e+00],\n",
              "        [ 2.62316807e+00,  4.26096396e+00],\n",
              "        [-8.90135317e+00,  3.08413801e+00],\n",
              "        [-7.44473338e+00,  2.30665850e+00],\n",
              "        [ 2.67178547e+00,  6.13348643e+00],\n",
              "        [ 3.52266744e-01,  5.77102731e+00],\n",
              "        [ 1.73536062e+00,  5.02993090e+00],\n",
              "        [-1.05933143e+01,  3.06959908e+00],\n",
              "        [-8.98314481e+00,  1.37995480e+00],\n",
              "        [ 1.26867668e+00,  4.89252313e+00],\n",
              "        [ 3.02533854e+00,  4.70987890e+00],\n",
              "        [ 8.49008382e-01,  3.46970090e+00],\n",
              "        [ 1.07771062e+00,  5.91026981e+00],\n",
              "        [-7.99492696e+00,  1.38898652e+00],\n",
              "        [-8.96385585e+00,  6.79052398e+00],\n",
              "        [-6.05079493e-01,  5.52878544e+00],\n",
              "        [-8.10524537e+00,  5.53826158e+00],\n",
              "        [ 1.48049972e+00,  5.61020169e+00],\n",
              "        [-8.80743940e+00,  1.38225454e+00],\n",
              "        [-5.97510517e+00,  2.49599918e+00],\n",
              "        [ 4.76052280e-01,  6.79635181e+00],\n",
              "        [ 1.53460027e+00,  4.76317226e+00],\n",
              "        [-8.43328213e+00,  3.84669677e-01],\n",
              "        [-8.58697834e+00,  2.57185658e+00],\n",
              "        [ 1.24743288e+00,  7.44990613e+00],\n",
              "        [-1.00697408e+01,  4.72726015e+00],\n",
              "        [-1.93511841e-01,  7.95754528e+00],\n",
              "        [-8.29957693e+00,  2.52586406e+00],\n",
              "        [ 1.75624714e+00,  6.56930004e+00],\n",
              "        [-6.37719249e+00,  1.56366422e+00],\n",
              "        [-5.91517952e+00,  2.04486956e+00],\n",
              "        [-9.15033846e+00,  1.29837123e+00],\n",
              "        [-8.43056029e+00,  6.57725336e+00],\n",
              "        [-1.68760153e-03,  6.85485624e+00],\n",
              "        [-6.75969073e+00,  4.58607273e+00],\n",
              "        [-5.99984217e-01,  6.40452403e+00],\n",
              "        [-9.26702827e+00,  3.85777056e+00],\n",
              "        [-6.95314903e+00,  6.46552076e+00],\n",
              "        [-7.21331298e+00,  3.85040557e+00],\n",
              "        [ 1.07913856e+00,  4.75051551e+00],\n",
              "        [-9.85440356e+00,  5.40379527e+00],\n",
              "        [ 2.46076171e+00,  4.67519383e+00],\n",
              "        [ 6.14413161e-01,  5.41365061e+00],\n",
              "        [-1.17139063e+00,  4.24379898e+00],\n",
              "        [-5.89986900e+00,  1.41191740e+00],\n",
              "        [ 1.43398992e+00,  4.59582086e+00],\n",
              "        [-7.89699388e+00,  5.91441025e+00],\n",
              "        [ 1.54357365e+00,  6.22475241e+00],\n",
              "        [-7.45002160e+00,  1.35608361e+00],\n",
              "        [-3.85005592e-01,  5.79392505e+00],\n",
              "        [-1.55745227e+00,  4.83988032e+00],\n",
              "        [-8.16245963e+00,  1.67009586e+00],\n",
              "        [ 6.30730104e-01,  5.92715296e+00],\n",
              "        [ 2.42224682e-01,  6.37963451e+00],\n",
              "        [ 3.51018326e+00,  4.94140930e+00],\n",
              "        [-4.82274983e-01,  6.55732396e+00],\n",
              "        [-1.10325184e+01,  2.26295232e+00],\n",
              "        [ 2.08564661e+00,  5.57622079e+00],\n",
              "        [-8.72291580e+00,  4.39275531e+00],\n",
              "        [-8.94718100e+00,  1.90968015e+00],\n",
              "        [-8.21978888e+00,  4.53680673e+00],\n",
              "        [-1.58938240e-01,  6.63303965e+00],\n",
              "        [-2.17211754e-01,  8.70701462e+00],\n",
              "        [-9.04195825e+00,  5.00917767e+00],\n",
              "        [-7.29413238e+00,  4.59662504e+00],\n",
              "        [-8.58671591e+00,  4.33659422e+00],\n",
              "        [ 2.28296741e+00,  6.23402320e+00],\n",
              "        [ 1.71346073e+00,  4.37421758e+00],\n",
              "        [-7.40422470e+00,  5.67398561e+00],\n",
              "        [ 1.27247669e+00,  5.19574540e+00],\n",
              "        [ 2.25791607e+00,  4.69122870e+00],\n",
              "        [-9.45726129e+00,  3.80876517e+00],\n",
              "        [ 1.75822632e+00,  5.15874521e+00],\n",
              "        [ 2.08699765e+00,  6.56633029e+00],\n",
              "        [ 2.15997248e+00,  5.41050214e+00],\n",
              "        [-1.07410937e+01,  4.27987651e+00],\n",
              "        [-7.14326723e+00,  3.35158760e-01],\n",
              "        [ 4.74720062e-01,  7.14961690e+00],\n",
              "        [ 1.71945323e+00,  5.17452173e+00],\n",
              "        [ 1.89669488e+00,  3.59524949e+00],\n",
              "        [ 2.56226791e+00,  5.53756058e+00],\n",
              "        [-8.51643092e+00,  1.70375419e+00],\n",
              "        [ 1.35474612e+00,  6.51211451e+00],\n",
              "        [-7.03748481e+00,  3.12899809e+00],\n",
              "        [-4.73683227e-01,  4.98675298e+00],\n",
              "        [-8.15704722e+00,  3.13549738e+00],\n",
              "        [-1.30361033e+00,  5.29010952e+00],\n",
              "        [-7.36903244e+00,  5.71359409e+00],\n",
              "        [ 4.85968504e-01,  5.65932065e+00],\n",
              "        [-7.85466197e+00,  2.45191353e+00],\n",
              "        [ 9.53675611e-01,  5.51236351e+00],\n",
              "        [ 3.88346976e-01,  7.24855048e+00],\n",
              "        [-8.57483347e+00,  4.28951611e+00],\n",
              "        [ 1.72749701e+00,  6.06076603e+00],\n",
              "        [-8.22561320e+00,  6.00350832e+00],\n",
              "        [-7.59376433e+00,  3.99203195e+00],\n",
              "        [ 4.77478259e-01,  5.20227711e+00],\n",
              "        [ 1.59706097e+00,  4.29417420e+00],\n",
              "        [-9.41987241e+00,  2.71406755e+00],\n",
              "        [ 1.88740208e+00,  4.38385612e+00],\n",
              "        [-1.34678264e+00,  5.11484782e+00],\n",
              "        [-6.96920340e+00,  4.46697708e+00],\n",
              "        [ 6.07282797e-01,  5.83585204e+00],\n",
              "        [-9.46548762e+00,  2.29406131e+00],\n",
              "        [ 9.14991621e-01,  6.35468179e+00],\n",
              "        [ 2.22164545e+00,  7.47399760e+00],\n",
              "        [-9.09420268e+00,  3.80101318e+00],\n",
              "        [-8.94768364e+00,  1.09322838e+00],\n",
              "        [-7.66726695e+00,  4.03263513e+00],\n",
              "        [ 2.70162327e+00,  5.16669669e+00],\n",
              "        [-9.47787375e+00,  5.57569611e+00],\n",
              "        [-8.33545125e+00,  4.24824344e+00],\n",
              "        [ 2.69266442e+00,  4.20773625e+00],\n",
              "        [-1.25998070e-01,  5.06576267e+00],\n",
              "        [-7.01122555e+00,  1.30866924e+00],\n",
              "        [-7.77059068e+00,  5.76584666e+00],\n",
              "        [-7.29453793e+00,  4.82229592e+00],\n",
              "        [-8.46684494e+00,  1.85546905e+00],\n",
              "        [-1.73600147e+00,  8.01619088e+00],\n",
              "        [ 1.47846701e+00,  5.29503676e+00],\n",
              "        [-2.88969954e-02,  5.71331895e+00],\n",
              "        [-5.69832877e+00,  4.98491857e+00],\n",
              "        [-5.73145393e+00,  6.72196155e+00],\n",
              "        [-7.10950587e+00,  4.26198468e+00],\n",
              "        [-4.54294962e-01,  5.13776487e+00],\n",
              "        [ 2.98455601e+00,  5.57539427e+00],\n",
              "        [-8.73397299e+00,  3.24502405e+00],\n",
              "        [-8.59283715e+00,  3.96475586e+00],\n",
              "        [ 2.00125584e+00,  5.82020143e+00],\n",
              "        [ 3.12156847e+00,  6.36779690e+00],\n",
              "        [ 7.96213755e-01,  4.81856264e+00]]),\n",
              " array([2, 3, 2, 3, 3, 3, 1, 2, 3, 0, 0, 0, 3, 1, 2, 3, 1, 3, 0, 1, 2, 0,\n",
              "        2, 0, 2, 0, 0, 3, 3, 1, 2, 2, 0, 1, 0, 2, 1, 1, 2, 0, 0, 2, 1, 0,\n",
              "        2, 3, 2, 0, 0, 0, 2, 2, 0, 0, 3, 1, 0, 0, 0, 2, 3, 1, 3, 1, 2, 3,\n",
              "        3, 2, 3, 2, 1, 0, 0, 1, 1, 1, 0, 0, 1, 1, 1, 1, 0, 3, 2, 3, 1, 0,\n",
              "        0, 2, 1, 0, 0, 2, 3, 2, 0, 1, 0, 0, 0, 3, 2, 3, 2, 3, 3, 3, 1, 3,\n",
              "        1, 1, 2, 0, 1, 3, 2, 0, 2, 2, 0, 2, 2, 1, 2, 0, 1, 3, 0, 3, 2, 2,\n",
              "        3, 3, 3, 1, 1, 3, 1, 1, 3, 1, 1, 2, 3, 0, 2, 1, 1, 1, 0, 1, 0, 2,\n",
              "        3, 2, 3, 1, 0, 2, 2, 0, 1, 3, 3, 2, 1, 0, 1, 2, 3, 2, 0, 1, 1, 3,\n",
              "        0, 3, 1, 3, 3, 1, 2, 0, 3, 3, 0, 2, 2, 2, 3, 3, 3, 2, 1, 0, 3, 1,\n",
              "        1, 2]))"
            ]
          },
          "metadata": {},
          "execution_count": 9
        }
      ]
    },
    {
      "cell_type": "code",
      "metadata": {
        "colab": {
          "base_uri": "https://localhost:8080/",
          "height": 282
        },
        "id": "5Da82nO5r5Gv",
        "outputId": "77eea3c0-38b6-47f6-f81a-54b6c570d272"
      },
      "source": [
        "plt.scatter(datos[0][:,0], datos[0][:,1])"
      ],
      "execution_count": 10,
      "outputs": [
        {
          "output_type": "execute_result",
          "data": {
            "text/plain": [
              "<matplotlib.collections.PathCollection at 0x7f060aacb910>"
            ]
          },
          "metadata": {},
          "execution_count": 10
        },
        {
          "output_type": "display_data",
          "data": {
            "image/png": "[encoded data removed]",
            "text/plain": [
              "<Figure size 432x288 with 1 Axes>"
            ]
          },
          "metadata": {
            "needs_background": "light"
          }
        }
      ]
    },
    {
      "cell_type": "code",
      "metadata": {
        "id": "a22vhB9YsVsU"
      },
      "source": [
        "from sklearn.cluster import KMeans"
      ],
      "execution_count": 11,
      "outputs": []
    },
    {
      "cell_type": "code",
      "metadata": {
        "id": "-ISrFkj2so7j"
      },
      "source": [
        "modelo = KMeans(n_clusters=4)"
      ],
      "execution_count": 12,
      "outputs": []
    },
    {
      "cell_type": "code",
      "metadata": {
        "colab": {
          "base_uri": "https://localhost:8080/"
        },
        "id": "rRbLSnvosxNk",
        "outputId": "4a9100d5-871f-4ced-8d7a-a2e5255ba008"
      },
      "source": [
        "modelo.fit(datos[0])"
      ],
      "execution_count": 13,
      "outputs": [
        {
          "output_type": "execute_result",
          "data": {
            "text/plain": [
              "KMeans(algorithm='auto', copy_x=True, init='k-means++', max_iter=300,\n",
              "       n_clusters=4, n_init=10, n_jobs=None, precompute_distances='auto',\n",
              "       random_state=None, tol=0.0001, verbose=0)"
            ]
          },
          "metadata": {},
          "execution_count": 13
        }
      ]
    },
    {
      "cell_type": "code",
      "metadata": {
        "colab": {
          "base_uri": "https://localhost:8080/"
        },
        "id": "5LScELNHs1Cr",
        "outputId": "e9a55cd9-cb84-4a37-9ef2-6d64feb8830a"
      },
      "source": [
        "modelo.cluster_centers_"
      ],
      "execution_count": 14,
      "outputs": [
        {
          "output_type": "execute_result",
          "data": {
            "text/plain": [
              "array([[-8.29664654,  1.94389771],\n",
              "       [-0.21511762,  6.13617642],\n",
              "       [-8.10124399,  4.99035938],\n",
              "       [ 1.92161603,  5.40768062]])"
            ]
          },
          "metadata": {},
          "execution_count": 14
        }
      ]
    },
    {
      "cell_type": "code",
      "metadata": {
        "colab": {
          "base_uri": "https://localhost:8080/"
        },
        "id": "OMWhcnX2tBPb",
        "outputId": "f499c1d6-2a41-474f-d939-3c70bf65f487"
      },
      "source": [
        "modelo.labels_"
      ],
      "execution_count": 15,
      "outputs": [
        {
          "output_type": "execute_result",
          "data": {
            "text/plain": [
              "array([1, 2, 3, 2, 2, 2, 3, 1, 2, 0, 0, 0, 2, 3, 3, 2, 1, 2, 0, 3, 3, 0,\n",
              "       1, 0, 1, 0, 0, 2, 2, 3, 1, 1, 0, 3, 0, 3, 3, 3, 3, 0, 0, 1, 1, 0,\n",
              "       1, 2, 1, 0, 0, 0, 1, 1, 0, 0, 2, 3, 0, 0, 0, 3, 2, 1, 2, 3, 1, 0,\n",
              "       2, 1, 2, 3, 3, 0, 0, 3, 1, 3, 0, 0, 3, 3, 3, 3, 0, 2, 1, 2, 3, 0,\n",
              "       0, 1, 3, 0, 0, 1, 2, 1, 0, 3, 0, 0, 0, 2, 1, 2, 1, 2, 2, 2, 3, 2,\n",
              "       3, 1, 1, 0, 3, 2, 3, 0, 1, 1, 0, 1, 1, 3, 1, 0, 3, 2, 0, 2, 1, 1,\n",
              "       2, 2, 2, 3, 3, 2, 3, 3, 2, 3, 3, 3, 2, 0, 1, 3, 3, 3, 0, 3, 0, 1,\n",
              "       0, 1, 2, 1, 0, 3, 1, 2, 3, 2, 2, 1, 3, 0, 3, 1, 2, 1, 0, 1, 3, 2,\n",
              "       0, 2, 3, 2, 2, 3, 1, 0, 2, 2, 0, 1, 3, 1, 2, 2, 2, 1, 3, 0, 2, 3,\n",
              "       3, 3], dtype=int32)"
            ]
          },
          "metadata": {},
          "execution_count": 15
        }
      ]
    },
    {
      "cell_type": "code",
      "metadata": {
        "colab": {
          "base_uri": "https://localhost:8080/"
        },
        "id": "ubRvCFWotKPc",
        "outputId": "631b6fa4-56ea-4a68-ca7d-35aadc98ff13"
      },
      "source": [
        "datos[1]"
      ],
      "execution_count": 16,
      "outputs": [
        {
          "output_type": "execute_result",
          "data": {
            "text/plain": [
              "array([2, 3, 2, 3, 3, 3, 1, 2, 3, 0, 0, 0, 3, 1, 2, 3, 1, 3, 0, 1, 2, 0,\n",
              "       2, 0, 2, 0, 0, 3, 3, 1, 2, 2, 0, 1, 0, 2, 1, 1, 2, 0, 0, 2, 1, 0,\n",
              "       2, 3, 2, 0, 0, 0, 2, 2, 0, 0, 3, 1, 0, 0, 0, 2, 3, 1, 3, 1, 2, 3,\n",
              "       3, 2, 3, 2, 1, 0, 0, 1, 1, 1, 0, 0, 1, 1, 1, 1, 0, 3, 2, 3, 1, 0,\n",
              "       0, 2, 1, 0, 0, 2, 3, 2, 0, 1, 0, 0, 0, 3, 2, 3, 2, 3, 3, 3, 1, 3,\n",
              "       1, 1, 2, 0, 1, 3, 2, 0, 2, 2, 0, 2, 2, 1, 2, 0, 1, 3, 0, 3, 2, 2,\n",
              "       3, 3, 3, 1, 1, 3, 1, 1, 3, 1, 1, 2, 3, 0, 2, 1, 1, 1, 0, 1, 0, 2,\n",
              "       3, 2, 3, 1, 0, 2, 2, 0, 1, 3, 3, 2, 1, 0, 1, 2, 3, 2, 0, 1, 1, 3,\n",
              "       0, 3, 1, 3, 3, 1, 2, 0, 3, 3, 0, 2, 2, 2, 3, 3, 3, 2, 1, 0, 3, 1,\n",
              "       1, 2])"
            ]
          },
          "metadata": {},
          "execution_count": 16
        }
      ]
    },
    {
      "cell_type": "code",
      "metadata": {
        "colab": {
          "base_uri": "https://localhost:8080/",
          "height": 298
        },
        "id": "Iqz4N_RXtNiD",
        "outputId": "864773f2-249d-43d6-e023-d6b478b77ff1"
      },
      "source": [
        "fig, (ax1, ax2) = plt.subplots(1,2, figsize=(12,4))\n",
        "\n",
        "ax1.scatter(datos[0][:,0], datos[0][:,1], c=modelo.labels_)\n",
        "ax1.set_title('Algoritmo de KMedias')\n",
        "\n",
        "ax2.scatter(datos[0][:,0], datos[0][:,1], c=datos[1])\n",
        "ax2.set_title('Datos Originales')\n",
        "\n"
      ],
      "execution_count": 17,
      "outputs": [
        {
          "output_type": "execute_result",
          "data": {
            "text/plain": [
              "Text(0.5, 1.0, 'Datos Originales')"
            ]
          },
          "metadata": {},
          "execution_count": 17
        },
        {
          "output_type": "display_data",
          "data": {
            "image/png": "[encoded data removed]",
            "text/plain": [
              "<Figure size 864x288 with 2 Axes>"
            ]
          },
          "metadata": {
            "needs_background": "light"
          }
        }
      ]
    },
    {
      "cell_type": "code",
      "metadata": {
        "id": "bAWHH1VTuY7c"
      },
      "source": [
        ""
      ],
      "execution_count": null,
      "outputs": []
    }
  ]
}